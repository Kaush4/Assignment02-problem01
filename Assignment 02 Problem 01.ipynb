{
 "cells": [
  {
   "cell_type": "code",
   "execution_count": 80,
   "id": "64fdc813",
   "metadata": {},
   "outputs": [
    {
     "name": "stdout",
     "output_type": "stream",
     "text": [
      "Number of tuples you want to add in list: 5\n",
      "Enter 1st element of tuple: 2\n",
      "Enter 2nd element of tuple: 5\n",
      "sample list is:  [(2, 5)]\n",
      "Enter 1st element of tuple: 1\n",
      "Enter 2nd element of tuple: 2\n",
      "sample list is:  [(2, 5), (1, 2)]\n",
      "Enter 1st element of tuple: 4\n",
      "Enter 2nd element of tuple: 4\n",
      "sample list is:  [(2, 5), (1, 2), (4, 4)]\n",
      "Enter 1st element of tuple: 2\n",
      "Enter 2nd element of tuple: 3\n",
      "sample list is:  [(2, 5), (1, 2), (4, 4), (2, 3)]\n",
      "Enter 1st element of tuple: 2\n",
      "Enter 2nd element of tuple: 1\n",
      "sample list is:  [(2, 5), (1, 2), (4, 4), (2, 3), (2, 1)]\n",
      "Result list after sorting :  [(2, 1), (1, 2), (2, 3), (4, 4), (2, 5)]\n"
     ]
    }
   ],
   "source": [
    "#### Write a Python program to get a list, sorted in increasing order by the \n",
    "# last element in each tuple from a given list of non-empty tuples\n",
    "\n",
    "\n",
    "\n",
    "# Sample List : [(2, 5), (1, 2), (4, 4), (2, 3), (2, 1)]\n",
    "\n",
    "# Expected Result : [(2, 1), (1, 2), (2, 3), (4, 4), (2, 5)]\n",
    "\n",
    "n = int(input(\"Number of tuples you want to add in list: \"))\n",
    "list=[]\n",
    "sample_list= []\n",
    "i= 1\n",
    "for i in range(n):\n",
    "        e1= int(input(\"Enter 1st element of tuple: \"))\n",
    "        e2= int(input(\"Enter 2nd element of tuple: \"))\n",
    "        list.append(e1)\n",
    "        list.append(e2)\n",
    "        t= tuple(list)\n",
    "        sample_list.append(t)\n",
    "        list= []\n",
    "        i= i+1\n",
    "        print(\"sample list is: \",sample_list)\n",
    "\n",
    "listLen = len(sample_list); \n",
    "for kk in range(0, listLen):\n",
    "    for j in range(0, listLen - kk - 1):\n",
    "        if(sample_list[j][-1] > sample_list[j + 1][-1]):\n",
    "            swap = sample_list[j]\n",
    "            sample_list[j] = sample_list[j + 1]\n",
    "            sample_list[j + 1] = swap\n",
    "print(\"Result list after sorting : \", sample_list)"
   ]
  }
 ],
 "metadata": {
  "kernelspec": {
   "display_name": "Python 3 (ipykernel)",
   "language": "python",
   "name": "python3"
  },
  "language_info": {
   "codemirror_mode": {
    "name": "ipython",
    "version": 3
   },
   "file_extension": ".py",
   "mimetype": "text/x-python",
   "name": "python",
   "nbconvert_exporter": "python",
   "pygments_lexer": "ipython3",
   "version": "3.9.12"
  }
 },
 "nbformat": 4,
 "nbformat_minor": 5
}
